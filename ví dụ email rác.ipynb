{
 "cells": [
  {
   "cell_type": "code",
   "execution_count": 3,
   "id": "cd0058b7-7b7e-4667-b25d-a75df74260fd",
   "metadata": {},
   "outputs": [
    {
     "name": "stdout",
     "output_type": "stream",
     "text": [
      "Độ chính xác của mô hình: 1.0\n",
      "Dự đoán cho email: \"Giảm giá 50% cho sản phẩm của bạn!\" - Kết quả: rác\n",
      "Dự đoán cho email: \"Chào bạn, chúng tôi có tin tức mới!\" - Kết quả: không rác\n",
      "Dự đoán cho email: \"Mua 1 tặng 1, chỉ trong hôm nay!\" - Kết quả: rác\n",
      "Dự đoán cho email: \"Hãy xem bài viết mới trên blog của tôi.\" - Kết quả: không rác\n",
      "Dự đoán cho email: \"Khuyến mãi đặc biệt cho khách hàng!\" - Kết quả: rác\n"
     ]
    }
   ],
   "source": [
    "import numpy as np\n",
    "import pandas as pd\n",
    "from sklearn.feature_extraction.text import CountVectorizer\n",
    "from sklearn.naive_bayes import MultinomialNB\n",
    "from sklearn.pipeline import make_pipeline\n",
    "from sklearn.model_selection import train_test_split\n",
    "from sklearn import metrics\n",
    "\n",
    "# Dữ liệu mẫu\n",
    "data = {\n",
    "    'email': [\n",
    "        \"Giảm giá 50% cho sản phẩm của bạn!\",\n",
    "        \"Chào bạn, chúng tôi có tin tức mới!\",\n",
    "        \"Mua 1 tặng 1, chỉ trong hôm nay!\",\n",
    "        \"Hãy xem bài viết mới trên blog của tôi.\",\n",
    "        \"Khuyến mãi đặc biệt cho khách hàng!\",\n",
    "    ],\n",
    "    'label': ['rác', 'không rác', 'rác', 'không rác', 'rác']\n",
    "}\n",
    "\n",
    "# Chuyển đổi dữ liệu thành DataFrame\n",
    "df = pd.DataFrame(data)\n",
    "\n",
    "# Tách dữ liệu thành dữ liệu huấn luyện và kiểm tra\n",
    "X_train, X_test, y_train, y_test = train_test_split(df['email'], df['label'], test_size=0.2, random_state=42)\n",
    "\n",
    "# Tạo mô hình Naive Bayes\n",
    "model = make_pipeline(CountVectorizer(), MultinomialNB())\n",
    "\n",
    "# Huấn luyện mô hình\n",
    "model.fit(X_train, y_train)\n",
    "\n",
    "# Dự đoán trên dữ liệu kiểm tra\n",
    "predicted = model.predict(X_test)\n",
    "\n",
    "# Đánh giá mô hình\n",
    "accuracy = metrics.accuracy_score(y_test, predicted)\n",
    "print(\"Độ chính xác của mô hình:\", accuracy)\n",
    "\n",
    "# Dự đoán cho tất cả các email trong danh sách\n",
    "for email in df['email']:\n",
    "    prediction = model.predict([email])\n",
    "    print(f\"Dự đoán cho email: \\\"{email}\\\" - Kết quả: {prediction[0]}\")\n"
   ]
  },
  {
   "cell_type": "code",
   "execution_count": null,
   "id": "45759707-b3ea-4c21-8f26-f03bac3eac93",
   "metadata": {},
   "outputs": [],
   "source": []
  }
 ],
 "metadata": {
  "kernelspec": {
   "display_name": "Python 3 (ipykernel)",
   "language": "python",
   "name": "python3"
  },
  "language_info": {
   "codemirror_mode": {
    "name": "ipython",
    "version": 3
   },
   "file_extension": ".py",
   "mimetype": "text/x-python",
   "name": "python",
   "nbconvert_exporter": "python",
   "pygments_lexer": "ipython3",
   "version": "3.12.4"
  }
 },
 "nbformat": 4,
 "nbformat_minor": 5
}
