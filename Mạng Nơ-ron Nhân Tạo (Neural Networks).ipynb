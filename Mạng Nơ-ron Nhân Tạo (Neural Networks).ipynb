import pandas as pd
from sklearn.model_selection import train_test_split
from sklearn.feature_extraction.text import TfidfVectorizer
from sklearn.naive_bayes import MultinomialNB
from sklearn.metrics import accuracy_score, classification_report, confusion_matrix
import matplotlib.pyplot as plt
import seaborn as sns

# Tạo một DataFrame mẫu và lưu vào file CSV
data = {
    'text': ['Tin tức thể thao 1', 'Tin tức chính trị 1', 'Tin tức giải trí 1',
             'Tin tức thể thao 2', 'Tin tức chính trị 2', 'Tin tức giải trí 2'],
    'label': ['thể thao', 'chính trị', 'giải trí', 'thể thao', 'chính trị', 'giải trí']
}

# Chuyển dữ liệu thành DataFrame
df = pd.DataFrame(data)

# Lưu DataFrame vào file CSV
df.to_csv('news_data.csv', index=False)

# Tải dữ liệu từ file CSV
data = pd.read_csv('news_data.csv')

# Xem qua dữ liệu
print(data.head())

# Tách dữ liệu thành đầu vào (X) và đầu ra (y)
X = data['text']
y = data['label']

# Chia tập dữ liệu thành tập huấn luyện và tập kiểm tra
X_train, X_test, y_train, y_test = train_test_split(X, y, test_size=0.2, random_state=42)

# Biến đổi văn bản thành vectơ đặc trưng bằng TfidfVectorizer
vectorizer = TfidfVectorizer()
X_train_tfidf = vectorizer.fit_transform(X_train)
X_test_tfidf = vectorizer.transform(X_test)

# Khởi tạo mô hình Naive Bayes
model = MultinomialNB()

# Huấn luyện mô hình
model.fit(X_train_tfidf, y_train)

# Dự đoán trên tập kiểm tra
y_pred = model.predict(X_test_tfidf)

# Đánh giá mô hình
print("Độ chính xác:", accuracy_score(y_test, y_pred))
print("Báo cáo phân loại:\n", classification_report(y_test, y_pred))

# Tạo ma trận nhầm lẫn
conf_matrix = confusion_matrix(y_test, y_pred)

# Trực quan hóa ma trận nhầm lẫn
plt.figure(figsize=(8, 6))
sns.heatmap(conf_matrix, annot=True, fmt='d', cmap='Blues', xticklabels=model.classes_, yticklabels=model.classes_)
plt.ylabel('Thực tế')
plt.xlabel('Dự đoán')
plt.title('Ma trận nhầm lẫn')
plt.show()

# Trực quan hóa tần suất các nhãn phân loại
plt.figure(figsize=(8, 6))
sns.countplot(data=data, x='label', palette='viridis')
plt.title('Tần suất các nhãn phân loại')
plt.xlabel('Nhãn')
plt.ylabel('Số lượng')
plt.show()
