{
 "cells": [
  {
   "cell_type": "code",
   "execution_count": 1,
   "id": "c3d86749-5fa5-4965-878e-522c19337aa8",
   "metadata": {},
   "outputs": [
    {
     "name": "stdout",
     "output_type": "stream",
     "text": [
      "\n",
      "\n",
      "\n",
      "Ví dụ xóa mã HTML\n",
      "\n",
      "\n",
      "Chào mừng đến với thế giới lập trình!\n",
      "Đây là một đoạn văn bản mẫu để minh họa cách xóa mã HTML.\n",
      "Chúng ta sẽ tìm hiểu về cách sử dụng BeautifulSoup.\n",
      "\n",
      "\n",
      "\n"
     ]
    }
   ],
   "source": [
    "from bs4 import BeautifulSoup\n",
    "\n",
    "# Đoạn văn bản chứa mã HTML\n",
    "html_text = \"\"\"\n",
    "<html>\n",
    "<head>\n",
    "    <title>Ví dụ xóa mã HTML</title>\n",
    "</head>\n",
    "<body>\n",
    "    <h1>Chào mừng đến với thế giới lập trình!</h1>\n",
    "    <p>Đây là một đoạn văn bản <strong>mẫu</strong> để minh họa cách xóa mã HTML.</p>\n",
    "    <p>Chúng ta sẽ <a href=\"https://www.example.com\">tìm hiểu</a> về cách sử dụng BeautifulSoup.</p>\n",
    "</body>\n",
    "</html>\n",
    "\"\"\"\n",
    "\n",
    "# Hàm xóa mã HTML\n",
    "def remove_html(text):\n",
    "    soup = BeautifulSoup(text, \"html.parser\")\n",
    "    return soup.get_text()\n",
    "\n",
    "# Gọi hàm và in kết quả\n",
    "clean_text = remove_html(html_text)\n",
    "print(clean_text)"
   ]
  },
  {
   "cell_type": "code",
   "execution_count": 3,
   "id": "53e5067f-38d7-4160-a8d8-f90e1ea70799",
   "metadata": {},
   "outputs": [
    {
     "name": "stdout",
     "output_type": "stream",
     "text": [
      "Học lập trình với Python\n"
     ]
    }
   ],
   "source": [
    "import unicodedata\n",
    "\n",
    "# Đoạn văn bản chứa Unicode tổ hợp\n",
    "text_nfd = \"Học lập trình với Python\"\n",
    "\n",
    "# Hàm chuẩn hóa về Unicode dựng sẵn (NFC)\n",
    "def normalize_unicode(text):\n",
    "    return unicodedata.normalize('NFC', text)\n",
    "\n",
    "# Gọi hàm và in kết quả\n",
    "text_nfc = normalize_unicode(text_nfd)\n",
    "print(text_nfc)"
   ]
  },
  {
   "cell_type": "code",
   "execution_count": 5,
   "id": "dfb4e6a8-60e3-4c0d-9001-8af4772e75fc",
   "metadata": {},
   "outputs": [
    {
     "name": "stdout",
     "output_type": "stream",
     "text": [
      "Học lập trình òa, úy rất thú vị.\n"
     ]
    }
   ],
   "source": [
    "import re\n",
    "\n",
    "# Hàm chuẩn hóa các trường hợp gõ dấu phổ biến\n",
    "def normalize_vietnamese_tone(text):\n",
    "    # Thay thế các trường hợp sai dấu phổ biến\n",
    "    text = re.sub(r'oà', 'òa', text)\n",
    "    text = re.sub(r'uý', 'úy', text)\n",
    "    text = re.sub(r'iể', 'iễ', text)  # Ví dụ cho dấu ngã\n",
    "    return text\n",
    "\n",
    "# Đoạn văn bản chứa dấu không chuẩn\n",
    "text = \"Học lập trình oà, uý rất thú vị.\"\n",
    "\n",
    "# Chuẩn hóa văn bản\n",
    "normalized_text = normalize_vietnamese_tone(text)\n",
    "print(normalized_text)\n"
   ]
  },
  {
   "cell_type": "code",
   "execution_count": 7,
   "id": "350f3875-50a1-4b71-bb2f-359d3a1820e5",
   "metadata": {},
   "outputs": [
    {
     "name": "stderr",
     "output_type": "stream",
     "text": [
      "[nltk_data] Downloading package punkt to\n",
      "[nltk_data]     C:\\Users\\ducan\\AppData\\Roaming\\nltk_data...\n",
      "[nltk_data]   Unzipping tokenizers\\punkt.zip.\n"
     ]
    },
    {
     "name": "stdout",
     "output_type": "stream",
     "text": [
      "Mr. Smith loves programming.\n",
      "He works at Google Inc. His favorite language is Python.\n"
     ]
    }
   ],
   "source": [
    "import nltk\n",
    "from nltk.tokenize import sent_tokenize\n",
    "\n",
    "# Đảm bảo đã tải dữ liệu của NLTK (chỉ cần chạy lần đầu)\n",
    "nltk.download('punkt')\n",
    "\n",
    "# Đoạn văn bản ví dụ\n",
    "text = \"Mr. Smith loves programming. He works at Google Inc. His favorite language is Python.\"\n",
    "\n",
    "# Tách câu\n",
    "sentences = sent_tokenize(text)\n",
    "\n",
    "# In các câu đã tách\n",
    "for sentence in sentences:\n",
    "    print(sentence)\n"
   ]
  },
  {
   "cell_type": "code",
   "execution_count": 9,
   "id": "f41d82a6-3b87-41c2-b446-a34c3135685a",
   "metadata": {},
   "outputs": [
    {
     "name": "stderr",
     "output_type": "stream",
     "text": [
      "[nltk_data] Downloading package punkt to\n",
      "[nltk_data]     C:\\Users\\ducan\\AppData\\Roaming\\nltk_data...\n",
      "[nltk_data]   Package punkt is already up-to-date!\n"
     ]
    },
    {
     "name": "stdout",
     "output_type": "stream",
     "text": [
      "Mr. Smith loves programming.\n",
      "He works at Google Inc. His favorite language is Python.\n"
     ]
    }
   ],
   "source": [
    "import nltk\n",
    "from nltk.tokenize import sent_tokenize\n",
    "\n",
    "# Đảm bảo đã tải dữ liệu của NLTK (chỉ cần chạy lần đầu)\n",
    "nltk.download('punkt')\n",
    "\n",
    "# Đoạn văn bản ví dụ\n",
    "text = \"Mr. Smith loves programming. He works at Google Inc. His favorite language is Python.\"\n",
    "\n",
    "# Tách câu\n",
    "sentences = sent_tokenize(text)\n",
    "\n",
    "# In các câu đã tách\n",
    "for sentence in sentences:\n",
    "    print(sentence)"
   ]
  },
  {
   "cell_type": "code",
   "execution_count": 11,
   "id": "785e6fd1-3585-4385-b5ca-7853c940c716",
   "metadata": {},
   "outputs": [
    {
     "name": "stdout",
     "output_type": "stream",
     "text": [
      "Mr. Smith loves programming.\n",
      "He works at Google Inc His favorite language is Python.\n"
     ]
    },
    {
     "name": "stderr",
     "output_type": "stream",
     "text": [
      "[nltk_data] Downloading package punkt to\n",
      "[nltk_data]     C:\\Users\\ducan\\AppData\\Roaming\\nltk_data...\n",
      "[nltk_data]   Package punkt is already up-to-date!\n"
     ]
    }
   ],
   "source": [
    "import nltk\n",
    "from nltk.tokenize import sent_tokenize\n",
    "\n",
    "# Đảm bảo đã tải dữ liệu của NLTK (chỉ cần chạy lần đầu)\n",
    "nltk.download('punkt')\n",
    "\n",
    "# Đoạn văn bản ví dụ\n",
    "text = \"Mr. Smith loves programming. He works at Google Inc. His favorite language is Python.\"\n",
    "\n",
    "# Thay thế từ viết tắt trước khi tách câu\n",
    "text = text.replace(\"Inc.\", \"Inc\")\n",
    "\n",
    "# Tách câu\n",
    "sentences = sent_tokenize(text)\n",
    "\n",
    "# In các câu đã tách\n",
    "for sentence in sentences:\n",
    "    print(sentence)\n"
   ]
  },
  {
   "cell_type": "code",
   "execution_count": 13,
   "id": "affb4309-c92a-4abf-a660-8df266955bb5",
   "metadata": {},
   "outputs": [
    {
     "name": "stdout",
     "output_type": "stream",
     "text": [
      "Mr. Smith loves programming.\n",
      "He works at Google .\n",
      "His favorite language is Python.\n"
     ]
    },
    {
     "name": "stderr",
     "output_type": "stream",
     "text": [
      "[nltk_data] Downloading package punkt to\n",
      "[nltk_data]     C:\\Users\\ducan\\AppData\\Roaming\\nltk_data...\n",
      "[nltk_data]   Package punkt is already up-to-date!\n"
     ]
    }
   ],
   "source": [
    "import nltk\n",
    "from nltk.tokenize import sent_tokenize\n",
    "\n",
    "# Đảm bảo đã tải dữ liệu của NLTK (chỉ cần chạy lần đầu)\n",
    "nltk.download('punkt')\n",
    "\n",
    "# Đoạn văn bản ví dụ\n",
    "text = \"Mr. Smith loves programming. He works at Google . His favorite language is Python.\"\n",
    "\n",
    "# Thay thế từ viết tắt trước khi tách câu\n",
    "text = text.replace(\"Inc.\", \"Inc\")\n",
    "\n",
    "# Tách câu\n",
    "sentences = sent_tokenize(text)\n",
    "\n",
    "# In các câu đã tách\n",
    "for sentence in sentences:\n",
    "    print(sentence)\n"
   ]
  },
  {
   "cell_type": "code",
   "execution_count": 15,
   "id": "2f04304c-914b-4dab-ae40-8d7760ff0f21",
   "metadata": {},
   "outputs": [
    {
     "ename": "ModuleNotFoundError",
     "evalue": "No module named 'pyvi'",
     "output_type": "error",
     "traceback": [
      "\u001b[1;31m---------------------------------------------------------------------------\u001b[0m",
      "\u001b[1;31mModuleNotFoundError\u001b[0m                       Traceback (most recent call last)",
      "Cell \u001b[1;32mIn[15], line 1\u001b[0m\n\u001b[1;32m----> 1\u001b[0m \u001b[38;5;28;01mfrom\u001b[39;00m \u001b[38;5;21;01mpyvi\u001b[39;00m \u001b[38;5;28;01mimport\u001b[39;00m ViTokenizer\n\u001b[0;32m      3\u001b[0m \u001b[38;5;66;03m# Hàm tách từ\u001b[39;00m\n\u001b[0;32m      4\u001b[0m \u001b[38;5;28;01mdef\u001b[39;00m \u001b[38;5;21mword_tokenize\u001b[39m(text):\n",
      "\u001b[1;31mModuleNotFoundError\u001b[0m: No module named 'pyvi'"
     ]
    }
   ],
   "source": [
    "from pyvi import ViTokenizer\n",
    "\n",
    "# Hàm tách từ\n",
    "def word_tokenize(text):\n",
    "    return ViTokenizer.tokenize(text)\n",
    "\n",
    "# Ví dụ văn bản tiếng Việt\n",
    "text = \"Ông Nguyễn Văn Đức là giám đốc của công ty Cổ phần Xây Dựng Á Châu.\"\n",
    "\n",
    "# Tách từ\n",
    "tokenized_text = word_tokenize(text)\n",
    "print(\"Văn bản sau khi tách từ:\", tokenized_text)\n"
   ]
  },
  {
   "cell_type": "code",
   "execution_count": 17,
   "id": "c3082da4-4dd5-432e-bd0a-65b069d8342c",
   "metadata": {},
   "outputs": [
    {
     "name": "stdout",
     "output_type": "stream",
     "text": [
      "Văn bản sau khi tách từ: Ông Nguyễn_Văn_Đức là giám_đốc của công_ty Cổ_phần Xây_Dựng Á_Châu .\n"
     ]
    }
   ],
   "source": [
    "from pyvi import ViTokenizer\n",
    "\n",
    "# Hàm tách từ\n",
    "def word_tokenize(text):\n",
    "    return ViTokenizer.tokenize(text)\n",
    "\n",
    "# Ví dụ văn bản tiếng Việt\n",
    "text = \"Ông Nguyễn Văn Đức là giám đốc của công ty Cổ phần Xây Dựng Á Châu.\"\n",
    "\n",
    "# Tách từ\n",
    "tokenized_text = word_tokenize(text)\n",
    "print(\"Văn bản sau khi tách từ:\", tokenized_text)"
   ]
  },
  {
   "cell_type": "code",
   "execution_count": 19,
   "id": "ede63088-16d8-4de3-8953-b973a1d6f596",
   "metadata": {},
   "outputs": [
    {
     "name": "stdout",
     "output_type": "stream",
     "text": [
      "Văn bản sau khi tách từ: Ông Nguyễn_Văn_Đức là giám_đốc của công_ty Cổ_phần Xây_Dựng_Á_Châu .\n",
      "Văn bản sau khi chuyển về chữ thường: ông nguyễn_văn_đức là giám_đốc của công_ty cổ_phần xây_dựng_á_châu .\n"
     ]
    }
   ],
   "source": [
    "from pyvi import ViTokenizer\n",
    "\n",
    "# Chuyển về chữ thường\n",
    "def to_lowercase(text):\n",
    "    return text.lower()\n",
    "\n",
    "# Chuyển văn bản đã tách từ về chữ thường\n",
    "lower_text = to_lowercase(tokenized_text)\n",
    "print(\"Văn bản sau khi chuyển về chữ thường:\", lower_text)\n"
   ]
  },
  {
   "cell_type": "code",
   "execution_count": 21,
   "id": "eda49829-b56c-4a08-b3fa-cb803eb11ba4",
   "metadata": {},
   "outputs": [
    {
     "name": "stdout",
     "output_type": "stream",
     "text": [
      "Văn bản sau khi chuyển về chữ thường: ông nguyễn_văn_đức là giám_đốc của công_ty cổ_phần xây_dựng_á_châu .\n"
     ]
    }
   ],
   "source": [
    "from pyvi import ViTokenizer\n",
    "\n",
    "# Chuyển về chữ thường\n",
    "def to_lowercase(text):\n",
    "    return text.lower()\n",
    "\n",
    "# Chuyển văn bản đã tách từ về chữ thường\n",
    "lower_text = to_lowercase(tokenized_text)\n",
    "print(\"Văn bản sau khi chuyển về chữ thường:\", lower_text)\n"
   ]
  },
  {
   "cell_type": "code",
   "execution_count": 23,
   "id": "a5265aa3-529e-4c1f-9ba3-7c5ff0ce5e4d",
   "metadata": {},
   "outputs": [
    {
     "name": "stdout",
     "output_type": "stream",
     "text": [
      "Văn bản sau khi xóa ký tự đặc biệt: Ông Nguyễn Văn Đức là giám đốc của công ty Cổ phần Xây Dựng Á Châu Ông có number năm kinh nghiệm và email của ông là email\n"
     ]
    }
   ],
   "source": [
    "import re\n",
    "\n",
    "# Hàm xóa ký tự đặc biệt\n",
    "def remove_special_characters(text):\n",
    "    # Thay thế số bằng <number>\n",
    "    text = re.sub(r'\\d+', '<number>', text)\n",
    "    # Thay thế email bằng <email>\n",
    "    text = re.sub(r'\\S+@\\S+', '<email>', text)\n",
    "    # Xóa các ký tự đặc biệt (dấu câu và ký tự khác)\n",
    "    text = re.sub(r'[^\\w\\s]', '', text)\n",
    "    return text\n",
    "\n",
    "# Ví dụ văn bản tiếng Việt\n",
    "text = \"Ông Nguyễn Văn Đức là giám đốc của công ty Cổ phần Xây Dựng Á Châu. Ông có 5 năm kinh nghiệm và email của ông là nguyen.van.duc@example.com.\"\n",
    "\n",
    "# Xóa ký tự đặc biệt và thay thế token\n",
    "cleaned_text = remove_special_characters(text)\n",
    "print(\"Văn bản sau khi xóa ký tự đặc biệt:\", cleaned_text)\n"
   ]
  },
  {
   "cell_type": "code",
   "execution_count": 25,
   "id": "1cae5579-fad3-4c0c-8dcf-7742ace176bf",
   "metadata": {},
   "outputs": [
    {
     "name": "stdout",
     "output_type": "stream",
     "text": [
      "Văn bản sau khi xóa ký tự đặc biệt: Ông Nguyễn Văn Đức là giám đốc của công ty Cổ phần Xây Dựng Á Châu Ông có number năm kinh nghiệm và email của ông là email\n"
     ]
    }
   ],
   "source": [
    "import re\n",
    "\n",
    "# Hàm xóa ký tự đặc biệt\n",
    "def remove_special_characters(text):\n",
    "    # Thay thế số bằng <number>\n",
    "    text = re.sub(r'\\d+', '<number>', text)\n",
    "    # Thay thế email bằng <email>\n",
    "    text = re.sub(r'\\S+@\\S+', '<email>', text)\n",
    "    # Xóa các ký tự đặc biệt (dấu câu và ký tự khác)\n",
    "    text = re.sub(r'[^\\w\\s]', '', text)\n",
    "    return text\n",
    "\n",
    "# Ví dụ văn bản tiếng Việt\n",
    "text = \"Ông Nguyễn Văn Đức là giám đốc của công ty Cổ phần Xây Dựng Á Châu. Ông có 5 năm kinh nghiệm và email của ông là nguyen.van.duc@example.com.\"\n",
    "\n",
    "# Xóa ký tự đặc biệt và thay thế token\n",
    "cleaned_text = remove_special_characters(text)\n",
    "\n",
    "# In kết quả\n",
    "print(\"Văn bản sau khi xóa ký tự đặc biệt:\", cleaned_text)\n"
   ]
  },
  {
   "cell_type": "code",
   "execution_count": 27,
   "id": "c403ae02-92c5-48ac-991f-9f54255ec47c",
   "metadata": {},
   "outputs": [
    {
     "name": "stdout",
     "output_type": "stream",
     "text": [
      "Văn bản sau khi loại bỏ stopword: Ông Nguyễn Văn Đức giám đốc công ty Cổ phần Xây Dựng Á Châu.\n"
     ]
    }
   ],
   "source": [
    "import re\n",
    "\n",
    "# Danh sách stopword tiếng Việt\n",
    "stopwords = set([\n",
    "    \"của\", \"là\", \"có\", \"được\", \"những\", \"và\", \"có\", \"theo\", \"đến\", \"này\", \"khi\",\n",
    "    \"các\", \"một\", \"tôi\", \"hay\", \"đó\", \"nơi\", \"làm\", \"thì\", \"như\", \"cũng\", \"không\"\n",
    "])\n",
    "\n",
    "# Hàm loại bỏ stopword\n",
    "def remove_stopwords(text):\n",
    "    words = text.split()  # Tách văn bản thành danh sách các từ\n",
    "    filtered_words = [word for word in words if word not in stopwords]  # Lọc các từ không phải stopword\n",
    "    return ' '.join(filtered_words)  # Kết hợp lại thành văn bản\n",
    "\n",
    "# Ví dụ văn bản tiếng Việt\n",
    "text = \"Ông Nguyễn Văn Đức là giám đốc của công ty Cổ phần Xây Dựng Á Châu.\"\n",
    "\n",
    "# Loại bỏ stopword\n",
    "cleaned_text = remove_stopwords(text)\n",
    "\n",
    "# In kết quả\n",
    "print(\"Văn bản sau khi loại bỏ stopword:\", cleaned_text)\n"
   ]
  },
  {
   "cell_type": "code",
   "execution_count": null,
   "id": "66e70470-138d-45a7-9271-1a0ff45ab4f7",
   "metadata": {},
   "outputs": [],
   "source": []
  }
 ],
 "metadata": {
  "kernelspec": {
   "display_name": "Python 3 (ipykernel)",
   "language": "python",
   "name": "python3"
  },
  "language_info": {
   "codemirror_mode": {
    "name": "ipython",
    "version": 3
   },
   "file_extension": ".py",
   "mimetype": "text/x-python",
   "name": "python",
   "nbconvert_exporter": "python",
   "pygments_lexer": "ipython3",
   "version": "3.12.4"
  }
 },
 "nbformat": 4,
 "nbformat_minor": 5
}
