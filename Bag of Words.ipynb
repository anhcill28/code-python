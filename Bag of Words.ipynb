{
 "cells": [
  {
   "cell_type": "code",
   "execution_count": 2,
   "id": "c1855592-73c4-4c91-b535-b00f30bcbde3",
   "metadata": {},
   "outputs": [
    {
     "name": "stdout",
     "output_type": "stream",
     "text": [
      "Bag of words for the first sentence:\n",
      "{'ăn': 2, 'việt': 2, 'nam': 2, 'phở': 2, 'là': 1, 'món': 1, 'người': 1, 'bánh': 0, 'mì': 0, 'nổi': 1, 'tiếng': 1, 'của': 1, 'rất': 1, 'thích': 1, 'cũng': 0, 'phổ': 0, 'biến': 0, 'ở': 0, 'vào': 0, 'bữa': 0, 'sáng': 0}\n",
      "We found 21 unique tokens.\n"
     ]
    }
   ],
   "source": [
    "# Make sure to install the necessary packages first\n",
    "# pip install --upgrade pip\n",
    "# pip install tensorflow\n",
    "\n",
    "from typing import List\n",
    "from tensorflow.keras.preprocessing.text import Tokenizer\n",
    "\n",
    "# Two sentences about food in Vietnam\n",
    "sentences = [\n",
    "    \"Phở là món ăn nổi tiếng của Việt Nam. Người Việt Nam rất thích ăn phở.\",\n",
    "    \"Bánh mì cũng là món ăn phổ biến ở Việt Nam. Người Việt Nam ăn bánh mì vào bữa sáng.\"\n",
    "]\n",
    "\n",
    "def print_bow(sentences: List[str]) -> None:\n",
    "    tokenizer = Tokenizer()\n",
    "    tokenizer.fit_on_texts(sentences)\n",
    "    sequences = tokenizer.texts_to_sequences(sentences)\n",
    "    word_index = tokenizer.word_index\n",
    "    bow = {}\n",
    "\n",
    "    for key in word_index:\n",
    "        bow[key] = sequences[0].count(word_index[key])\n",
    "\n",
    "    print(f\"Bag of words for the first sentence:\\n{bow}\")\n",
    "    print(f\"We found {len(word_index)} unique tokens.\")\n",
    "\n",
    "print_bow(sentences)\n"
   ]
  },
  {
   "cell_type": "code",
   "execution_count": null,
   "id": "c30c9be5-07f9-41f9-9f2f-96b7ba13ff56",
   "metadata": {},
   "outputs": [],
   "source": []
  }
 ],
 "metadata": {
  "kernelspec": {
   "display_name": "Python 3 (ipykernel)",
   "language": "python",
   "name": "python3"
  },
  "language_info": {
   "codemirror_mode": {
    "name": "ipython",
    "version": 3
   },
   "file_extension": ".py",
   "mimetype": "text/x-python",
   "name": "python",
   "nbconvert_exporter": "python",
   "pygments_lexer": "ipython3",
   "version": "3.12.4"
  }
 },
 "nbformat": 4,
 "nbformat_minor": 5
}
