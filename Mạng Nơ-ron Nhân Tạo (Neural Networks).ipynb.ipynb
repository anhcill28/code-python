{
 "cells": [
  {
   "cell_type": "code",
   "execution_count": null,
   "id": "2bb4b42a-d7f6-4517-8441-7738e31bcf33",
   "metadata": {},
   "outputs": [],
   "source": []
  }
 ],
 "metadata": {
  "kernelspec": {
   "display_name": "Python 3 (ipykernel)",
   "language": "python",
   "name": "python3"
  },
  "language_info": {
   "codemirror_mode": {
    "name": "ipython",
    "version": 3
   },
   "file_extension": ".py",
   "mimetype": "text/x-python",
   "name": "python",
   "nbconvert_exporter": "python",
   "pygments_lexer": "ipython3",
   "version": "3.12.4"
  }
 },
 "nbformat": 4,
 "nbformat_minor": 5
}
import nltk
from nltk.tokenize import sent_tokenize

# Đảm bảo đã tải dữ liệu của NLTK (chỉ cần chạy lần đầu)
nltk.download('punkt')

# Đoạn văn bản ví dụ
text = "Mr. Smith loves programming. He works at Google Inc. His favorite language is Python."

# Tách câu
sentences = sent_tokenize(text)

# In các câu đã tách
for sentence in sentences:
    print(sentence)
