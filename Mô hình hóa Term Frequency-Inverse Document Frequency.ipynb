{
 "cells": [
  {
   "cell_type": "code",
   "execution_count": 2,
   "id": "4af5f6e4-ee62-4ef8-9dd8-fb24d736553e",
   "metadata": {},
   "outputs": [
    {
     "name": "stdout",
     "output_type": "stream",
     "text": [
      "Bag of Words for DocA: {'rất': 1, 'nổi': 1, 'Nam': 1, 'ở': 0, 'món': 1, 'Bánh': 0, 'phổ': 0, 'của': 1, 'vào': 0, 'biến': 0, 'thích': 1, 'Nam.': 1, 'Người': 1, 'ăn': 2, 'bánh': 0, 'sáng.': 0, 'mì': 0, 'bữa': 0, 'phở.': 1, 'tiếng': 1, 'thường': 0, 'Việt': 2, 'Phở': 1, 'là': 1}\n",
      "Bag of Words for DocB: {'rất': 0, 'nổi': 0, 'Nam': 1, 'ở': 1, 'món': 1, 'Bánh': 1, 'phổ': 1, 'của': 0, 'vào': 1, 'biến': 1, 'thích': 0, 'Nam.': 1, 'Người': 1, 'ăn': 2, 'bánh': 1, 'sáng.': 1, 'mì': 2, 'bữa': 1, 'phở.': 0, 'tiếng': 0, 'thường': 1, 'Việt': 2, 'Phở': 0, 'là': 1}\n"
     ]
    }
   ],
   "source": [
    "# Two documents in Vietnamese\n",
    "docA = \"Phở là món ăn nổi tiếng của Việt Nam. Người Việt Nam rất thích ăn phở.\"\n",
    "docB = \"Bánh mì là món ăn phổ biến ở Việt Nam. Người Việt Nam thường ăn bánh mì vào bữa sáng.\"\n",
    "\n",
    "# Tokenization (split into words)\n",
    "bowA = docA.split(\" \")\n",
    "bowB = docB.split(\" \")\n",
    "\n",
    "# Create dictionary (unique words)\n",
    "word_dict = set(bowA).union(set(bowB))\n",
    "\n",
    "wordDictA = dict.fromkeys(word_dict, 0)\n",
    "wordDictB = dict.fromkeys(word_dict, 0)\n",
    "\n",
    "# Count word occurrences\n",
    "for word in bowA:\n",
    "    wordDictA[word] += 1\n",
    "\n",
    "for word in bowB:\n",
    "    wordDictB[word] += 1\n",
    "\n",
    "print(\"Bag of Words for DocA:\", wordDictA)\n",
    "print(\"Bag of Words for DocB:\", wordDictB)\n"
   ]
  },
  {
   "cell_type": "code",
   "execution_count": 4,
   "id": "70c7b667-5ee8-46c7-ae68-405af948ecbf",
   "metadata": {},
   "outputs": [
    {
     "name": "stdout",
     "output_type": "stream",
     "text": [
      "TF for DocA: {'rất': 0.0625, 'nổi': 0.0625, 'Nam': 0.0625, 'ở': 0.0, 'món': 0.0625, 'Bánh': 0.0, 'phổ': 0.0, 'của': 0.0625, 'vào': 0.0, 'biến': 0.0, 'thích': 0.0625, 'Nam.': 0.0625, 'Người': 0.0625, 'ăn': 0.125, 'bánh': 0.0, 'sáng.': 0.0, 'mì': 0.0, 'bữa': 0.0, 'phở.': 0.0625, 'tiếng': 0.0625, 'thường': 0.0, 'Việt': 0.125, 'Phở': 0.0625, 'là': 0.0625}\n",
      "TF for DocB: {'rất': 0.0, 'nổi': 0.0, 'Nam': 0.05, 'ở': 0.05, 'món': 0.05, 'Bánh': 0.05, 'phổ': 0.05, 'của': 0.0, 'vào': 0.05, 'biến': 0.05, 'thích': 0.0, 'Nam.': 0.05, 'Người': 0.05, 'ăn': 0.1, 'bánh': 0.05, 'sáng.': 0.05, 'mì': 0.1, 'bữa': 0.05, 'phở.': 0.0, 'tiếng': 0.0, 'thường': 0.05, 'Việt': 0.1, 'Phở': 0.0, 'là': 0.05}\n"
     ]
    }
   ],
   "source": [
    "# Calculate TF\n",
    "def compute_TF(word_dict, bow):\n",
    "    tf_dict = {}\n",
    "    bow_count = len(bow)\n",
    "    for word, count in word_dict.items():\n",
    "        tf_dict[word] = count / float(bow_count)\n",
    "    return tf_dict\n",
    "\n",
    "tf_bowA = compute_TF(wordDictA, bowA)\n",
    "tf_bowB = compute_TF(wordDictB, bowB)\n",
    "\n",
    "print(\"TF for DocA:\", tf_bowA)\n",
    "print(\"TF for DocB:\", tf_bowB)\n"
   ]
  },
  {
   "cell_type": "code",
   "execution_count": 6,
   "id": "1e41de16-cce2-473c-9818-6e9364184b84",
   "metadata": {},
   "outputs": [
    {
     "name": "stdout",
     "output_type": "stream",
     "text": [
      "IDF: {'rất': 0.6931471805599453, 'nổi': 0.6931471805599453, 'Nam': 0.0, 'ở': 0.6931471805599453, 'món': 0.0, 'Bánh': 0.6931471805599453, 'phổ': 0.6931471805599453, 'của': 0.6931471805599453, 'vào': 0.6931471805599453, 'biến': 0.6931471805599453, 'thích': 0.6931471805599453, 'Nam.': 0.0, 'Người': 0.0, 'ăn': 0.0, 'bánh': 0.6931471805599453, 'sáng.': 0.6931471805599453, 'mì': 0.6931471805599453, 'bữa': 0.6931471805599453, 'phở.': 0.6931471805599453, 'tiếng': 0.6931471805599453, 'thường': 0.6931471805599453, 'Việt': 0.0, 'Phở': 0.6931471805599453, 'là': 0.0}\n"
     ]
    }
   ],
   "source": [
    "import math\n",
    "\n",
    "# Calculate IDF\n",
    "def compute_IDF(doc_list):\n",
    "    idf_dict = {}\n",
    "    N = len(doc_list)\n",
    "    \n",
    "    # Count number of documents containing a word\n",
    "    idf_dict = dict.fromkeys(doc_list[0].keys(), 0)\n",
    "    for doc in doc_list:\n",
    "        for word, count in doc.items():\n",
    "            if count > 0:\n",
    "                idf_dict[word] += 1\n",
    "\n",
    "    # Calculate IDF for each word\n",
    "    for word, count in idf_dict.items():\n",
    "        idf_dict[word] = math.log(N / float(count))\n",
    "    \n",
    "    return idf_dict\n",
    "\n",
    "idfs = compute_IDF([wordDictA, wordDictB])\n",
    "print(\"IDF:\", idfs)\n"
   ]
  },
  {
   "cell_type": "code",
   "execution_count": 8,
   "id": "6d2fa1ae-6aab-42df-b79f-eb32dadc1eb6",
   "metadata": {},
   "outputs": [
    {
     "name": "stdout",
     "output_type": "stream",
     "text": [
      "TF-IDF for DocA: {'rất': 0.04332169878499658, 'nổi': 0.04332169878499658, 'Nam': 0.0, 'ở': 0.0, 'món': 0.0, 'Bánh': 0.0, 'phổ': 0.0, 'của': 0.04332169878499658, 'vào': 0.0, 'biến': 0.0, 'thích': 0.04332169878499658, 'Nam.': 0.0, 'Người': 0.0, 'ăn': 0.0, 'bánh': 0.0, 'sáng.': 0.0, 'mì': 0.0, 'bữa': 0.0, 'phở.': 0.04332169878499658, 'tiếng': 0.04332169878499658, 'thường': 0.0, 'Việt': 0.0, 'Phở': 0.04332169878499658, 'là': 0.0}\n",
      "TF-IDF for DocB: {'rất': 0.0, 'nổi': 0.0, 'Nam': 0.0, 'ở': 0.03465735902799726, 'món': 0.0, 'Bánh': 0.03465735902799726, 'phổ': 0.03465735902799726, 'của': 0.0, 'vào': 0.03465735902799726, 'biến': 0.03465735902799726, 'thích': 0.0, 'Nam.': 0.0, 'Người': 0.0, 'ăn': 0.0, 'bánh': 0.03465735902799726, 'sáng.': 0.03465735902799726, 'mì': 0.06931471805599453, 'bữa': 0.03465735902799726, 'phở.': 0.0, 'tiếng': 0.0, 'thường': 0.03465735902799726, 'Việt': 0.0, 'Phở': 0.0, 'là': 0.0}\n"
     ]
    }
   ],
   "source": [
    "# Calculate TF-IDF\n",
    "def compute_TF_IDF(tf_bow, idfs):\n",
    "    tfidf = {}\n",
    "    for word, tf_value in tf_bow.items():\n",
    "        tfidf[word] = tf_value * idfs[word]\n",
    "    return tfidf\n",
    "\n",
    "tfidf_bowA = compute_TF_IDF(tf_bowA, idfs)\n",
    "tfidf_bowB = compute_TF_IDF(tf_bowB, idfs)\n",
    "\n",
    "print(\"TF-IDF for DocA:\", tfidf_bowA)\n",
    "print(\"TF-IDF for DocB:\", tfidf_bowB)"
   ]
  },
  {
   "cell_type": "code",
   "execution_count": null,
   "id": "fad0de40-d394-4424-b3f8-081681a6ff20",
   "metadata": {},
   "outputs": [],
   "source": []
  }
 ],
 "metadata": {
  "kernelspec": {
   "display_name": "Python 3 (ipykernel)",
   "language": "python",
   "name": "python3"
  },
  "language_info": {
   "codemirror_mode": {
    "name": "ipython",
    "version": 3
   },
   "file_extension": ".py",
   "mimetype": "text/x-python",
   "name": "python",
   "nbconvert_exporter": "python",
   "pygments_lexer": "ipython3",
   "version": "3.12.4"
  }
 },
 "nbformat": 4,
 "nbformat_minor": 5
}
